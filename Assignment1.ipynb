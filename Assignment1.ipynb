{
  "nbformat": 4,
  "nbformat_minor": 0,
  "metadata": {
    "colab": {
      "provenance": []
    },
    "kernelspec": {
      "name": "python3",
      "display_name": "Python 3"
    },
    "language_info": {
      "name": "python"
    }
  },
  "cells": [
    {
      "cell_type": "code",
      "execution_count": 2,
      "metadata": {
        "colab": {
          "base_uri": "https://localhost:8080/"
        },
        "id": "1olLy9VST7Re",
        "outputId": "c1b0a263-24fb-49bf-fd10-40ab9b9ad1b0"
      },
      "outputs": [
        {
          "output_type": "stream",
          "name": "stdout",
          "text": [
            "welcome\n",
            "Login or Register (Login,Reg): reg\n",
            "Enter your email and password to register\n",
            "Enter your email: raghavi@gmail.com\n",
            "Enter your password: raghavi\n",
            "### USER DETAILS ###\n",
            "Username:  raghavi@gmail.com\n"
          ]
        }
      ],
      "source": [
        "granted = False\n",
        "def grant():\n",
        "    global granted\n",
        "    granted = True\n",
        "def login(name,password):\n",
        "    success = False\n",
        "    file = open(\"user_detail.txt\",\"r\")\n",
        "    for i in file:\n",
        "         a,b = i.split(\",\")\n",
        "         b = b.strip()\n",
        "         if(a==name and b==password):\n",
        "             success = True\n",
        "             break\n",
        "    file.close()\n",
        "    if(success):\n",
        "        print(\"Login Successful\")\n",
        "        grant()\n",
        "    else:\n",
        "        print(\"wrong user name or password\")\n",
        "        \n",
        "def register(name,password):\n",
        "    file = open(\"user_detail.txt\",\"a\")\n",
        "    file.write(\"\\n\"+name+\",\"+password)\n",
        "    grant()\n",
        "def access(option):\n",
        "    global name\n",
        "    if(option==\"login\"):\n",
        "        name = input(\"Enter your email: \")\n",
        "        password = input(\"Enter your password: \")\n",
        "        login(name,password)\n",
        "    else:\n",
        "        print(\"Enter your email and password to register\")\n",
        "        name = input(\"Enter your email: \")\n",
        "        password = input(\"Enter your password: \")\n",
        "        register(name,password)\n",
        "\n",
        "def begin():\n",
        "    global option\n",
        "    print(\"welcome\")\n",
        "    option = input(\"Login or Register (Login,Reg): \")\n",
        "    if(option!=\"login\" and option!=\"reg\"):\n",
        "        begin()\n",
        "        \n",
        "begin()\n",
        "access(option)\n",
        "\n",
        "if(granted):\n",
        "    print(\"### USER DETAILS ###\")\n",
        "    print(\"Username: \",name)\n",
        "\n",
        "\n",
        "    "
      ]
    },
    {
      "cell_type": "code",
      "source": [],
      "metadata": {
        "id": "I8kQaYhSUACN"
      },
      "execution_count": null,
      "outputs": []
    }
  ]
}